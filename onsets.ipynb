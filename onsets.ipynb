{
 "cells": [
  {
   "cell_type": "code",
   "execution_count": 4,
   "id": "d3ff7d31",
   "metadata": {
    "scrolled": true
   },
   "outputs": [
    {
     "name": "stdout",
     "output_type": "stream",
     "text": [
      "Requirement already satisfied: librosa in c:\\users\\han1b\\anaconda3\\lib\\site-packages (0.10.1)\n",
      "Requirement already satisfied: lazy-loader>=0.1 in c:\\users\\han1b\\anaconda3\\lib\\site-packages (from librosa) (0.4)\n",
      "Requirement already satisfied: joblib>=0.14 in c:\\users\\han1b\\anaconda3\\lib\\site-packages (from librosa) (1.1.0)\n",
      "Requirement already satisfied: numba>=0.51.0 in c:\\users\\han1b\\anaconda3\\lib\\site-packages (from librosa) (0.54.1)\n",
      "Requirement already satisfied: typing-extensions>=4.1.1 in c:\\users\\han1b\\anaconda3\\lib\\site-packages (from librosa) (4.11.0)\n",
      "Requirement already satisfied: pooch>=1.0 in c:\\users\\han1b\\anaconda3\\lib\\site-packages (from librosa) (1.8.1)\n",
      "Requirement already satisfied: msgpack>=1.0 in c:\\users\\han1b\\anaconda3\\lib\\site-packages (from librosa) (1.0.2)\n",
      "Requirement already satisfied: audioread>=2.1.9 in c:\\users\\han1b\\anaconda3\\lib\\site-packages (from librosa) (3.0.1)\n",
      "Requirement already satisfied: scipy>=1.2.0 in c:\\users\\han1b\\anaconda3\\lib\\site-packages (from librosa) (1.7.1)\n",
      "Requirement already satisfied: decorator>=4.3.0 in c:\\users\\han1b\\anaconda3\\lib\\site-packages (from librosa) (5.1.0)\n",
      "Requirement already satisfied: soxr>=0.3.2 in c:\\users\\han1b\\anaconda3\\lib\\site-packages (from librosa) (0.3.7)\n",
      "Requirement already satisfied: numpy!=1.22.0,!=1.22.1,!=1.22.2,>=1.20.3 in c:\\users\\han1b\\anaconda3\\lib\\site-packages (from librosa) (1.20.3)\n",
      "Requirement already satisfied: scikit-learn>=0.20.0 in c:\\users\\han1b\\anaconda3\\lib\\site-packages (from librosa) (0.24.2)\n",
      "Requirement already satisfied: soundfile>=0.12.1 in c:\\users\\han1b\\anaconda3\\lib\\site-packages (from librosa) (0.12.1)\n",
      "Requirement already satisfied: packaging in c:\\users\\han1b\\anaconda3\\lib\\site-packages (from lazy-loader>=0.1->librosa) (21.0)\n",
      "Requirement already satisfied: setuptools in c:\\users\\han1b\\anaconda3\\lib\\site-packages (from numba>=0.51.0->librosa) (58.0.4)\n",
      "Requirement already satisfied: llvmlite<0.38,>=0.37.0rc1 in c:\\users\\han1b\\anaconda3\\lib\\site-packages (from numba>=0.51.0->librosa) (0.37.0)\n",
      "Requirement already satisfied: requests>=2.19.0 in c:\\users\\han1b\\anaconda3\\lib\\site-packages (from pooch>=1.0->librosa) (2.26.0)\n",
      "Requirement already satisfied: platformdirs>=2.5.0 in c:\\users\\han1b\\anaconda3\\lib\\site-packages (from pooch>=1.0->librosa) (4.2.0)\n",
      "Requirement already satisfied: pyparsing>=2.0.2 in c:\\users\\han1b\\anaconda3\\lib\\site-packages (from packaging->lazy-loader>=0.1->librosa) (3.0.4)\n",
      "Requirement already satisfied: certifi>=2017.4.17 in c:\\users\\han1b\\anaconda3\\lib\\site-packages (from requests>=2.19.0->pooch>=1.0->librosa) (2021.10.8)\n",
      "Requirement already satisfied: idna<4,>=2.5 in c:\\users\\han1b\\anaconda3\\lib\\site-packages (from requests>=2.19.0->pooch>=1.0->librosa) (3.2)\n",
      "Requirement already satisfied: urllib3<1.27,>=1.21.1 in c:\\users\\han1b\\anaconda3\\lib\\site-packages (from requests>=2.19.0->pooch>=1.0->librosa) (1.26.7)\n",
      "Requirement already satisfied: charset-normalizer~=2.0.0 in c:\\users\\han1b\\anaconda3\\lib\\site-packages (from requests>=2.19.0->pooch>=1.0->librosa) (2.0.4)\n",
      "Requirement already satisfied: threadpoolctl>=2.0.0 in c:\\users\\han1b\\anaconda3\\lib\\site-packages (from scikit-learn>=0.20.0->librosa) (2.2.0)\n",
      "Requirement already satisfied: cffi>=1.0 in c:\\users\\han1b\\anaconda3\\lib\\site-packages (from soundfile>=0.12.1->librosa) (1.14.6)\n",
      "Requirement already satisfied: pycparser in c:\\users\\han1b\\anaconda3\\lib\\site-packages (from cffi>=1.0->soundfile>=0.12.1->librosa) (2.20)\n",
      "Collecting music21\n",
      "  Downloading music21-8.3.0-py3-none-any.whl (22.8 MB)\n",
      "Requirement already satisfied: more-itertools in c:\\users\\han1b\\anaconda3\\lib\\site-packages (from music21) (8.10.0)\n",
      "Collecting webcolors>=1.5\n",
      "  Downloading webcolors-1.13-py3-none-any.whl (14 kB)\n",
      "Requirement already satisfied: joblib in c:\\users\\han1b\\anaconda3\\lib\\site-packages (from music21) (1.1.0)\n",
      "Requirement already satisfied: matplotlib in c:\\users\\han1b\\anaconda3\\lib\\site-packages (from music21) (3.4.3)\n",
      "Requirement already satisfied: requests in c:\\users\\han1b\\anaconda3\\lib\\site-packages (from music21) (2.26.0)\n",
      "Collecting jsonpickle\n",
      "  Downloading jsonpickle-3.0.4-py3-none-any.whl (39 kB)\n",
      "Requirement already satisfied: chardet in c:\\users\\han1b\\anaconda3\\lib\\site-packages (from music21) (4.0.0)\n",
      "Requirement already satisfied: numpy in c:\\users\\han1b\\anaconda3\\lib\\site-packages (from music21) (1.20.3)\n",
      "Requirement already satisfied: cycler>=0.10 in c:\\users\\han1b\\anaconda3\\lib\\site-packages (from matplotlib->music21) (0.10.0)\n",
      "Requirement already satisfied: python-dateutil>=2.7 in c:\\users\\han1b\\anaconda3\\lib\\site-packages (from matplotlib->music21) (2.8.2)\n",
      "Requirement already satisfied: pyparsing>=2.2.1 in c:\\users\\han1b\\anaconda3\\lib\\site-packages (from matplotlib->music21) (3.0.4)\n",
      "Requirement already satisfied: kiwisolver>=1.0.1 in c:\\users\\han1b\\anaconda3\\lib\\site-packages (from matplotlib->music21) (1.3.1)\n",
      "Requirement already satisfied: pillow>=6.2.0 in c:\\users\\han1b\\anaconda3\\lib\\site-packages (from matplotlib->music21) (8.4.0)\n",
      "Requirement already satisfied: six in c:\\users\\han1b\\anaconda3\\lib\\site-packages (from cycler>=0.10->matplotlib->music21) (1.16.0)\n",
      "Requirement already satisfied: idna<4,>=2.5 in c:\\users\\han1b\\anaconda3\\lib\\site-packages (from requests->music21) (3.2)\n",
      "Requirement already satisfied: charset-normalizer~=2.0.0 in c:\\users\\han1b\\anaconda3\\lib\\site-packages (from requests->music21) (2.0.4)\n",
      "Requirement already satisfied: urllib3<1.27,>=1.21.1 in c:\\users\\han1b\\anaconda3\\lib\\site-packages (from requests->music21) (1.26.7)\n",
      "Requirement already satisfied: certifi>=2017.4.17 in c:\\users\\han1b\\anaconda3\\lib\\site-packages (from requests->music21) (2021.10.8)\n",
      "Installing collected packages: webcolors, jsonpickle, music21\n",
      "Successfully installed jsonpickle-3.0.4 music21-8.3.0 webcolors-1.13\n"
     ]
    }
   ],
   "source": [
    "import sys\n",
    "!{sys.executable} -m pip install librosa\n",
    "!{sys.executable} -m pip install music21"
   ]
  },
  {
   "cell_type": "code",
   "execution_count": 16,
   "id": "627c61f3",
   "metadata": {},
   "outputs": [],
   "source": [
    "import librosa\n",
    "import music21\n",
    "\n",
    "def infer_time_signature(audio_file):\n",
    "  \n",
    "    y, sr = librosa.load(audio_file)\n",
    "    \n",
    "    onset_env = librosa.onset.onset_strength(y=y, sr=sr)\n",
    "    tempo, beat_frames = librosa.beat.beat_track(y=y, sr=sr, onset_envelope=onset_env)\n",
    "    beat_times = librosa.frames_to_time(beat_frames, sr=sr)\n",
    "    \n",
    "    stream = music21.stream.Stream()\n",
    "    for beat_time in beat_times:\n",
    "        stream.append(music21.note.Note(beat_time))  \n",
    "    \n",
    "    ts = music21.meter.bestTimeSignature(stream)\n",
    "    \n",
    "    return ts"
   ]
  },
  {
   "cell_type": "code",
   "execution_count": 17,
   "id": "8349f9d7",
   "metadata": {},
   "outputs": [
    {
     "name": "stdout",
     "output_type": "stream",
     "text": [
      "Inferred time signature: <music21.meter.TimeSignature 94/4>\n"
     ]
    }
   ],
   "source": [
    "audio_file = \"C:\\\\Users\\\\han1b\\\\MATLAB Drive\\\\Published\\\\EECS 351\\\\351 project\\\\Ode-to-joy-melody-piano.mp3\"\n",
    "time_signature = infer_time_signature(audio_file)\n",
    "print(\"Inferred time signature:\", time_signature)"
   ]
  },
  {
   "cell_type": "code",
   "execution_count": 18,
   "id": "61e15a45",
   "metadata": {},
   "outputs": [
    {
     "name": "stdout",
     "output_type": "stream",
     "text": [
      "Estimated tempo: 107.67 beats per minute\n"
     ]
    },
    {
     "data": {
      "text/plain": [
       "array([ 0.16253968,  0.74303855,  1.30031746,  1.85759637,  2.41487528,\n",
       "        2.9721542 ,  3.52943311,  4.06349206,  4.64399093,  5.17804989,\n",
       "        5.7353288 ,  6.29260771,  6.84988662,  7.40716553,  7.96444444,\n",
       "        8.52172336,  9.07900227,  9.63628118, 10.19356009, 10.72761905,\n",
       "       11.28489796, 11.84217687, 12.39945578, 12.95673469, 13.51401361,\n",
       "       14.07129252, 14.62857143, 15.18585034, 15.74312925, 16.30040816,\n",
       "       16.85768707, 17.39174603, 17.94902494, 18.52952381, 19.06358277,\n",
       "       19.62086168, 20.17814059, 20.7354195 , 21.29269841, 21.84997732,\n",
       "       22.40725624, 22.96453515, 23.52181406, 24.07909297, 24.63637188,\n",
       "       25.19365079, 25.75092971, 26.30820862, 26.84226757, 27.39954649,\n",
       "       27.9568254 , 28.51410431, 29.07138322, 29.62866213, 30.18594104,\n",
       "       30.74321995, 31.30049887, 31.85777778, 32.41505669, 32.9723356 ,\n",
       "       33.52961451, 34.06367347, 34.62095238, 35.17823129, 35.7355102 ,\n",
       "       36.29278912, 36.85006803, 37.40734694, 37.96462585, 38.52190476,\n",
       "       39.07918367, 39.63646259, 40.1937415 , 40.75102041, 41.30829932,\n",
       "       41.86557823, 42.42285714, 42.98013605, 43.53741497, 44.07147392,\n",
       "       44.62875283, 45.18603175, 45.74331066, 46.30058957, 46.85786848,\n",
       "       47.41514739, 47.9724263 , 48.52970522, 49.08698413, 49.64426304,\n",
       "       50.178322  , 50.73560091, 51.29287982, 51.85015873])"
      ]
     },
     "execution_count": 18,
     "metadata": {},
     "output_type": "execute_result"
    }
   ],
   "source": [
    "import librosa\n",
    "\n",
    "audio_file = librosa.load(\"C:\\\\Users\\\\han1b\\\\MATLAB Drive\\\\Published\\\\EECS 351\\\\351 project\\\\Ode-to-joy-melody-piano.mp3\")\n",
    "y, sr = audio_file\n",
    "\n",
    "tempo, beat_frames = librosa.beat.beat_track(y=y, sr=sr)\n",
    "print('Estimated tempo: {:.2f} beats per minute'.format(tempo))\n",
    "\n",
    "beat_times = librosa.frames_to_time(beat_frames, sr=sr)\n",
    "beat_times"
   ]
  },
  {
   "cell_type": "code",
   "execution_count": 7,
   "id": "e46e7980",
   "metadata": {
    "scrolled": true
   },
   "outputs": [
    {
     "name": "stdout",
     "output_type": "stream",
     "text": [
      "Estimated tempo: 107.67 beats per minute\n"
     ]
    },
    {
     "data": {
      "text/plain": [
       "<matplotlib.legend.Legend at 0x1db1d3a2d60>"
      ]
     },
     "execution_count": 7,
     "metadata": {},
     "output_type": "execute_result"
    },
    {
     "data": {
      "image/png": "[encoded data removed]",
      "text/plain": [
       "<Figure size 432x288 with 1 Axes>"
      ]
     },
     "metadata": {
      "needs_background": "light"
     },
     "output_type": "display_data"
    }
   ],
   "source": [
    "import librosa\n",
    "import matplotlib.pyplot as plt\n",
    "import numpy as np\n",
    "\n",
    "audio_file = \"C:\\\\Users\\\\han1b\\\\MATLAB Drive\\\\Published\\\\EECS 351\\\\351 project\\\\Ode-to-joy-melody-piano.mp3\"\n",
    "y, sr = librosa.load(audio_file, duration=10)\n",
    "\n",
    "onset_env = librosa.onset.onset_strength(y=y, sr=sr, aggregate=np.median)\n",
    "\n",
    "tempo, beats = librosa.beat.beat_track(onset_envelope=onset_env, sr=sr)\n",
    "print('Estimated tempo: {:.2f} beats per minute'.format(tempo))\n",
    "\n",
    "beat_times = librosa.frames_to_time(beats, sr=sr)\n",
    "\n",
    "\n",
    "hop_length = 512\n",
    "times = librosa.times_like(onset_env, sr=sr, hop_length=hop_length)\n",
    "\n",
    "plt.plot(times, librosa.util.normalize(onset_env), label='Onset strength')\n",
    "plt.vlines(times[beats], 0, 1, alpha=0.5, color='r', linestyle='--', label='Beats')\n",
    "plt.title(\"Beat Event vs Onset Envelope\")\n",
    "plt.xlabel('Time (s)')\n",
    "plt.ylabel('Amplitude')\n",
    "plt.legend()"
   ]
  },
  {
   "cell_type": "code",
   "execution_count": null,
   "id": "65f4cf88",
   "metadata": {},
   "outputs": [],
   "source": []
  }
 ],
 "metadata": {
  "kernelspec": {
   "display_name": "Python 3 (ipykernel)",
   "language": "python",
   "name": "python3"
  },
  "language_info": {
   "codemirror_mode": {
    "name": "ipython",
    "version": 3
   },
   "file_extension": ".py",
   "mimetype": "text/x-python",
   "name": "python",
   "nbconvert_exporter": "python",
   "pygments_lexer": "ipython3",
   "version": "3.9.7"
  }
 },
 "nbformat": 4,
 "nbformat_minor": 5
}
